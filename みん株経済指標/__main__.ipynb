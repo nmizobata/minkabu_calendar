{
 "cells": [
  {
   "cell_type": "code",
   "execution_count": 2,
   "id": "3eb726bb-e3db-4c6b-bf53-a16c25179d75",
   "metadata": {},
   "outputs": [],
   "source": [
    "# \n",
    "\n",
    "from MT4_common_lib import mt4_lib as mt"
   ]
  },
  {
   "cell_type": "code",
   "execution_count": 4,
   "id": "9c022698-e22f-491d-8135-874916e89bae",
   "metadata": {},
   "outputs": [
    {
     "name": "stdout",
     "output_type": "stream",
     "text": [
      "サンプルファイルです\n",
      "Titan MT4のデータフォルダは[C:/Users/blues/AppData/Roaming/MetaQuotes/Terminal/EC3CF66DAC6B4F7210364B8A2584852D/profiles]です\n"
     ]
    }
   ],
   "source": [
    "print(\"サンプルファイルです\")\n",
    "\n",
    "mt4_name = \"Titan MT4\"\n",
    "MT4 = mt.Mt4(mt4_name)\n",
    "print(\"{}のデータフォルダは[{}]です\".format(mt4_name, MT4.datafolder))"
   ]
  },
  {
   "cell_type": "code",
   "execution_count": null,
   "id": "85baf82f-5269-4adb-92f4-d2bfd80f31ef",
   "metadata": {},
   "outputs": [],
   "source": []
  }
 ],
 "metadata": {
  "jupytext": {
   "formats": "ipynb,py:light"
  },
  "kernelspec": {
   "display_name": "Python 3 (ipykernel)",
   "language": "python",
   "name": "python3"
  },
  "language_info": {
   "codemirror_mode": {
    "name": "ipython",
    "version": 3
   },
   "file_extension": ".py",
   "mimetype": "text/x-python",
   "name": "python",
   "nbconvert_exporter": "python",
   "pygments_lexer": "ipython3",
   "version": "3.12.5"
  }
 },
 "nbformat": 4,
 "nbformat_minor": 5
}
