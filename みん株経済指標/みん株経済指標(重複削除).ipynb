{
 "cells": [
  {
   "cell_type": "code",
   "execution_count": null,
   "id": "6a1e8637",
   "metadata": {},
   "outputs": [],
   "source": [
    "# みん株 経済指標スケジュール、Google Calendarに重複登録されているアイテムを削除\n",
    "# https://fx.minkabu.jp/indicators\n",
    "# googleカレンダーのプログラムに関するメモ https://share.evernote.com/note/9195e429-ef9a-785a-7259-4eec3c5c10b8\n",
    "# 20241224 ver1.0 みん株 経済指標スケジュール ver1.4よりモジュールを分離"
   ]
  },
  {
   "cell_type": "code",
   "execution_count": 2,
   "id": "3bbbe5fa",
   "metadata": {},
   "outputs": [],
   "source": [
    "def initialize_googlecalendar():\n",
    "    import googleapiclient.discovery\n",
    "    import google.auth\n",
    "    \n",
    "    SCOPES = ['https://www.googleapis.com/auth/calendar']\n",
    "    calendar_id = 'pk3dm4n2tmlqvr6t9h0ipeears@group.calendar.google.com'\n",
    "    gapi_creds = google.auth.load_credentials_from_file(r'D:\\FX\\★FX_chartfile\\MT4バッチツール\\googlecalendar\\mycalendarproject-374505-ded433e45278.json', SCOPES)[0]\n",
    "    service = googleapiclient.discovery.build('calendar', 'v3', credentials=gapi_creds)\n",
    "    return calendar_id, service"
   ]
  },
  {
   "cell_type": "code",
   "execution_count": 5,
   "id": "80dfe37a",
   "metadata": {},
   "outputs": [],
   "source": [
    "# 現時点のGoogle Calendarの登録内容を今日以降の登録内容をチェックし、重複しているイベントを削除\n",
    "def remove_duplicates_from_googlecalendar(calendar_id,service):\n",
    "    import datetime\n",
    "    import pandas as pd\n",
    "    import time\n",
    "\n",
    "#    now = (datetime.datetime.utcnow()-datetime.timedelta(days=5)).isoformat() + 'Z'  utcnow()が未推奨となったため変更\n",
    "    now = (datetime.datetime.now(datetime.UTC)-datetime.timedelta(days=5)).isoformat()[:-6] + \"Z\"\n",
    "\n",
    "    event_list = service.events().list(\n",
    "         calendarId=calendar_id, timeMin=now,\n",
    "    #     maxResults=3, \n",
    "         singleEvents=True,\n",
    "         orderBy='startTime').execute()\n",
    "\n",
    "    events = event_list.get('items', [])\n",
    "    formatted_events = [{'start':event['start'].get('dateTime', event['start'].get('date')), # start time or day\n",
    "         'end':event['end'].get('dateTime', event['end'].get('date')), # end time or day\n",
    "         'event':event['summary'],\n",
    "         'event_id':event['id']} for event in events]\n",
    "    df_googlecalendar=pd.DataFrame(formatted_events)\n",
    "    df_googlecalendar['duplicated']=df_googlecalendar.duplicated(subset=['start','end','event'])\n",
    "\n",
    "    j=0\n",
    "    for i in range(len(df_googlecalendar)):\n",
    "        if df_googlecalendar.iloc[i]['duplicated']==True:\n",
    "            j=j+1\n",
    "            item=df_googlecalendar.iloc[i]\n",
    "            print('{}:{}を削除しています'.format(item['start'],item['event']))\n",
    "            ret=service.events().delete(calendarId=calendar_id,eventId=item['event_id']).execute()\n",
    "            time.sleep(3)  # サイトに拒否されないようにスリープを入れる\n",
    "    print('{}件削除しました'.format(j))"
   ]
  },
  {
   "cell_type": "code",
   "execution_count": 6,
   "id": "850d1776",
   "metadata": {},
   "outputs": [
    {
     "name": "stdout",
     "output_type": "stream",
     "text": [
      "0件削除しました\n"
     ]
    }
   ],
   "source": [
    "calendar_id,service=initialize_googlecalendar()\n",
    "remove_duplicates_from_googlecalendar(calendar_id,service)"
   ]
  },
  {
   "cell_type": "code",
   "execution_count": null,
   "id": "4e82f0a8",
   "metadata": {},
   "outputs": [],
   "source": []
  }
 ],
 "metadata": {
  "jupytext": {
   "formats": "ipynb,py:light"
  },
  "kernelspec": {
   "display_name": "Python 3 (ipykernel)",
   "language": "python",
   "name": "python3"
  },
  "language_info": {
   "codemirror_mode": {
    "name": "ipython",
    "version": 3
   },
   "file_extension": ".py",
   "mimetype": "text/x-python",
   "name": "python",
   "nbconvert_exporter": "python",
   "pygments_lexer": "ipython3",
   "version": "3.12.5"
  }
 },
 "nbformat": 4,
 "nbformat_minor": 5
}
